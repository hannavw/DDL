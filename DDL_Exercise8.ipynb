{
 "cells": [
  {
   "cell_type": "code",
   "execution_count": 1,
   "metadata": {},
   "outputs": [],
   "source": [
    "import seaborn as sns\n",
    "import pandas as pd\n",
    "import matplotlib.pyplot as plt\n",
    "import math\n",
    "from sklearn.linear_model import LinearRegression\n",
    "from sklearn.model_selection import train_test_split\n",
    "from sklearn.metrics import mean_squared_error\n",
    "from sklearn.metrics import r2_score"
   ]
  },
  {
   "cell_type": "code",
   "execution_count": 12,
   "metadata": {},
   "outputs": [
    {
     "data": {
      "text/html": [
       "<div>\n",
       "<style scoped>\n",
       "    .dataframe tbody tr th:only-of-type {\n",
       "        vertical-align: middle;\n",
       "    }\n",
       "\n",
       "    .dataframe tbody tr th {\n",
       "        vertical-align: top;\n",
       "    }\n",
       "\n",
       "    .dataframe thead th {\n",
       "        text-align: right;\n",
       "    }\n",
       "</style>\n",
       "<table border=\"1\" class=\"dataframe\">\n",
       "  <thead>\n",
       "    <tr style=\"text-align: right;\">\n",
       "      <th></th>\n",
       "      <th>Unnamed: 0</th>\n",
       "      <th>address</th>\n",
       "      <th>area</th>\n",
       "      <th>bedrooms</th>\n",
       "      <th>postal_code</th>\n",
       "      <th>posting_date</th>\n",
       "      <th>price</th>\n",
       "      <th>property_type</th>\n",
       "      <th>rooms</th>\n",
       "      <th>sale_date</th>\n",
       "      <th>url</th>\n",
       "      <th>year_built</th>\n",
       "    </tr>\n",
       "  </thead>\n",
       "  <tbody>\n",
       "    <tr>\n",
       "      <th>0</th>\n",
       "      <td>0</td>\n",
       "      <td>Knollendamstraat 4 III/IV</td>\n",
       "      <td>108</td>\n",
       "      <td>2</td>\n",
       "      <td>1013 TN</td>\n",
       "      <td>4-6-2016</td>\n",
       "      <td>510000</td>\n",
       "      <td>apartment</td>\n",
       "      <td>3</td>\n",
       "      <td>23-6-2016</td>\n",
       "      <td>http://www.funda.nl/koop/verkocht/amsterdam/ap...</td>\n",
       "      <td>1906</td>\n",
       "    </tr>\n",
       "    <tr>\n",
       "      <th>1</th>\n",
       "      <td>1</td>\n",
       "      <td>Moerdijkstraat 47 1</td>\n",
       "      <td>47</td>\n",
       "      <td>1</td>\n",
       "      <td>1079 XM</td>\n",
       "      <td>22-6-2016</td>\n",
       "      <td>215000</td>\n",
       "      <td>apartment</td>\n",
       "      <td>2</td>\n",
       "      <td>5-7-2016</td>\n",
       "      <td>http://www.funda.nl/koop/verkocht/amsterdam/ap...</td>\n",
       "      <td>1938</td>\n",
       "    </tr>\n",
       "    <tr>\n",
       "      <th>2</th>\n",
       "      <td>2</td>\n",
       "      <td>Zeeburgerdijk 349</td>\n",
       "      <td>116</td>\n",
       "      <td>2</td>\n",
       "      <td>1095 AD</td>\n",
       "      <td>9-6-2016</td>\n",
       "      <td>325000</td>\n",
       "      <td>apartment</td>\n",
       "      <td>3</td>\n",
       "      <td>8-7-2016</td>\n",
       "      <td>http://www.funda.nl/koop/verkocht/amsterdam/ap...</td>\n",
       "      <td>2003</td>\n",
       "    </tr>\n",
       "    <tr>\n",
       "      <th>3</th>\n",
       "      <td>3</td>\n",
       "      <td>Brederodestraat 124 -1</td>\n",
       "      <td>58</td>\n",
       "      <td>2</td>\n",
       "      <td>1054 VH</td>\n",
       "      <td>14-5-2016</td>\n",
       "      <td>315000</td>\n",
       "      <td>apartment</td>\n",
       "      <td>3</td>\n",
       "      <td>2-6-2016</td>\n",
       "      <td>http://www.funda.nl/koop/verkocht/amsterdam/ap...</td>\n",
       "      <td>1910</td>\n",
       "    </tr>\n",
       "    <tr>\n",
       "      <th>4</th>\n",
       "      <td>4</td>\n",
       "      <td>Admiraal De Ruijterweg 409 III</td>\n",
       "      <td>63</td>\n",
       "      <td>1</td>\n",
       "      <td>1055 MD</td>\n",
       "      <td>14-6-2016</td>\n",
       "      <td>200000</td>\n",
       "      <td>apartment</td>\n",
       "      <td>3</td>\n",
       "      <td>23-6-2016</td>\n",
       "      <td>http://www.funda.nl/koop/verkocht/amsterdam/ap...</td>\n",
       "      <td>1906</td>\n",
       "    </tr>\n",
       "  </tbody>\n",
       "</table>\n",
       "</div>"
      ],
      "text/plain": [
       "   Unnamed: 0                         address  area  bedrooms postal_code  \\\n",
       "0           0       Knollendamstraat 4 III/IV   108         2     1013 TN   \n",
       "1           1             Moerdijkstraat 47 1    47         1     1079 XM   \n",
       "2           2               Zeeburgerdijk 349   116         2     1095 AD   \n",
       "3           3          Brederodestraat 124 -1    58         2     1054 VH   \n",
       "4           4  Admiraal De Ruijterweg 409 III    63         1     1055 MD   \n",
       "\n",
       "  posting_date   price property_type  rooms  sale_date  \\\n",
       "0     4-6-2016  510000     apartment      3  23-6-2016   \n",
       "1    22-6-2016  215000     apartment      2   5-7-2016   \n",
       "2     9-6-2016  325000     apartment      3   8-7-2016   \n",
       "3    14-5-2016  315000     apartment      3   2-6-2016   \n",
       "4    14-6-2016  200000     apartment      3  23-6-2016   \n",
       "\n",
       "                                                 url  year_built  \n",
       "0  http://www.funda.nl/koop/verkocht/amsterdam/ap...        1906  \n",
       "1  http://www.funda.nl/koop/verkocht/amsterdam/ap...        1938  \n",
       "2  http://www.funda.nl/koop/verkocht/amsterdam/ap...        2003  \n",
       "3  http://www.funda.nl/koop/verkocht/amsterdam/ap...        1910  \n",
       "4  http://www.funda.nl/koop/verkocht/amsterdam/ap...        1906  "
      ]
     },
     "execution_count": 12,
     "metadata": {},
     "output_type": "execute_result"
    }
   ],
   "source": [
    "#Import csv and add to dataframe.\n",
    "df = pd.read_csv('funda-amsterdam.csv')\n",
    "df.head()"
   ]
  },
  {
   "cell_type": "code",
   "execution_count": 21,
   "metadata": {},
   "outputs": [],
   "source": [
    "#Choose 3 independent variables (x).\n",
    "#(1)area (2)rooms (3)year_built.\n",
    "#Dependent variable = price above 10.000.\n",
    "df_subset = df[[\"area\", \"rooms\", \"year_built\", \"price\"]]\n",
    "df_subset = df_subset[df_subset[\"price\"] > 10000]"
   ]
  },
  {
   "cell_type": "code",
   "execution_count": 23,
   "metadata": {},
   "outputs": [
    {
     "data": {
      "text/html": [
       "<div>\n",
       "<style scoped>\n",
       "    .dataframe tbody tr th:only-of-type {\n",
       "        vertical-align: middle;\n",
       "    }\n",
       "\n",
       "    .dataframe tbody tr th {\n",
       "        vertical-align: top;\n",
       "    }\n",
       "\n",
       "    .dataframe thead th {\n",
       "        text-align: right;\n",
       "    }\n",
       "</style>\n",
       "<table border=\"1\" class=\"dataframe\">\n",
       "  <thead>\n",
       "    <tr style=\"text-align: right;\">\n",
       "      <th></th>\n",
       "      <th>area</th>\n",
       "      <th>rooms</th>\n",
       "      <th>year_built</th>\n",
       "    </tr>\n",
       "  </thead>\n",
       "  <tbody>\n",
       "    <tr>\n",
       "      <th>3116</th>\n",
       "      <td>72</td>\n",
       "      <td>3</td>\n",
       "      <td>1986</td>\n",
       "    </tr>\n",
       "    <tr>\n",
       "      <th>9495</th>\n",
       "      <td>148</td>\n",
       "      <td>5</td>\n",
       "      <td>1906</td>\n",
       "    </tr>\n",
       "    <tr>\n",
       "      <th>9147</th>\n",
       "      <td>139</td>\n",
       "      <td>4</td>\n",
       "      <td>2016</td>\n",
       "    </tr>\n",
       "    <tr>\n",
       "      <th>2601</th>\n",
       "      <td>28</td>\n",
       "      <td>1</td>\n",
       "      <td>2014</td>\n",
       "    </tr>\n",
       "    <tr>\n",
       "      <th>10502</th>\n",
       "      <td>59</td>\n",
       "      <td>3</td>\n",
       "      <td>1991</td>\n",
       "    </tr>\n",
       "  </tbody>\n",
       "</table>\n",
       "</div>"
      ],
      "text/plain": [
       "       area  rooms  year_built\n",
       "3116     72      3        1986\n",
       "9495    148      5        1906\n",
       "9147    139      4        2016\n",
       "2601     28      1        2014\n",
       "10502    59      3        1991"
      ]
     },
     "execution_count": 23,
     "metadata": {},
     "output_type": "execute_result"
    }
   ],
   "source": [
    "#Name y(dependent) and X(independent).\n",
    "y = df_subset[\"price\"]\n",
    "X = df_subset.loc[:,'area':'year_built']\n",
    "\n",
    "#split the data in training and test set and store in different variables\n",
    "X_train, X_test, y_train, y_test = train_test_split(X, y, test_size=0.3, random_state=1)\n",
    "X_train.head()"
   ]
  },
  {
   "cell_type": "code",
   "execution_count": 27,
   "metadata": {},
   "outputs": [
    {
     "data": {
      "text/html": [
       "<div>\n",
       "<style scoped>\n",
       "    .dataframe tbody tr th:only-of-type {\n",
       "        vertical-align: middle;\n",
       "    }\n",
       "\n",
       "    .dataframe tbody tr th {\n",
       "        vertical-align: top;\n",
       "    }\n",
       "\n",
       "    .dataframe thead th {\n",
       "        text-align: right;\n",
       "    }\n",
       "</style>\n",
       "<table border=\"1\" class=\"dataframe\">\n",
       "  <thead>\n",
       "    <tr style=\"text-align: right;\">\n",
       "      <th></th>\n",
       "      <th>0</th>\n",
       "    </tr>\n",
       "  </thead>\n",
       "  <tbody>\n",
       "    <tr>\n",
       "      <th>4251.295299</th>\n",
       "      <td>area</td>\n",
       "    </tr>\n",
       "    <tr>\n",
       "      <th>-16530.404794</th>\n",
       "      <td>rooms</td>\n",
       "    </tr>\n",
       "    <tr>\n",
       "      <th>-1141.852158</th>\n",
       "      <td>year_built</td>\n",
       "    </tr>\n",
       "  </tbody>\n",
       "</table>\n",
       "</div>"
      ],
      "text/plain": [
       "                        0\n",
       " 4251.295299         area\n",
       "-16530.404794       rooms\n",
       "-1141.852158   year_built"
      ]
     },
     "execution_count": 27,
     "metadata": {},
     "output_type": "execute_result"
    }
   ],
   "source": [
    "#Evaluate model performance by calculating R2 and RMSE on the test set\n",
    "lm = LinearRegression() #create the model\n",
    "model = lm.fit(X_train, y_train) #train the model\n",
    "\n",
    "#Check performance on test set\n",
    "coef = pd.DataFrame(X.columns.values, lm.coef_) #this creates a df with a column with the column names, and the coefficients of the model\n",
    "coef"
   ]
  },
  {
   "cell_type": "markdown",
   "metadata": {},
   "source": [
    "Interpret coefficient: an extra 4251 thousand euros per m^2, the more rooms the cheaper and the newer the cheaper."
   ]
  },
  {
   "cell_type": "code",
   "execution_count": 28,
   "metadata": {},
   "outputs": [
    {
     "data": {
      "text/plain": [
       "0.6521403798622318"
      ]
     },
     "execution_count": 28,
     "metadata": {},
     "output_type": "execute_result"
    }
   ],
   "source": [
    "y_test_p = lm.predict(X_test) #Generate predictions for the test data.\n",
    "r2_score(y_test, y_test_p)"
   ]
  },
  {
   "cell_type": "markdown",
   "metadata": {},
   "source": [
    "65,2% of the model can be explained, that is pretty high. The higher the R2 → the better the model."
   ]
  },
  {
   "cell_type": "code",
   "execution_count": 26,
   "metadata": {},
   "outputs": [
    {
     "data": {
      "text/plain": [
       "101573.38487700601"
      ]
     },
     "execution_count": 26,
     "metadata": {},
     "output_type": "execute_result"
    }
   ],
   "source": [
    "math.sqrt(mean_squared_error(y_test, y_test_p))"
   ]
  },
  {
   "cell_type": "markdown",
   "metadata": {},
   "source": [
    "The RMSE is 101 thousand. Which means that we are typically about 118 thousand off in our predicted views."
   ]
  },
  {
   "cell_type": "code",
   "execution_count": 35,
   "metadata": {},
   "outputs": [
    {
     "data": {
      "image/png": "[encoded data removed]",
      "text/plain": [
       "<Figure size 432x288 with 1 Axes>"
      ]
     },
     "metadata": {},
     "output_type": "display_data"
    }
   ],
   "source": [
    "sns.scatterplot(y_test, y_test_p)\n",
    "plt.xlabel('Actual price')\n",
    "plt.ylabel('Predicted price')\n",
    "plt.plot([0, 1400000], [0, 1400000], color='red', lw=2) #Plot a diagonal length\n",
    "plt.show()"
   ]
  },
  {
   "cell_type": "markdown",
   "metadata": {},
   "source": [
    "The predictions are quite balanced in the beginning. There are some really expensive houses that we don't predict so well (the model predicts them too low: we can see that because they are plotted below the red line). The higher the actual price, the lower the model predicts them to be. "
   ]
  }
 ],
 "metadata": {
  "kernelspec": {
   "display_name": "Python 3",
   "language": "python",
   "name": "python3"
  },
  "language_info": {
   "codemirror_mode": {
    "name": "ipython",
    "version": 3
   },
   "file_extension": ".py",
   "mimetype": "text/x-python",
   "name": "python",
   "nbconvert_exporter": "python",
   "pygments_lexer": "ipython3",
   "version": "3.6.5"
  }
 },
 "nbformat": 4,
 "nbformat_minor": 2
}
